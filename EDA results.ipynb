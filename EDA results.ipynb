{
 "cells": [
  {
   "cell_type": "code",
   "execution_count": 24,
   "metadata": {},
   "outputs": [],
   "source": [
    "import numpy as np\n",
    "import pandas as pd\n",
    "\n",
    "import seaborn as sns\n",
    "import matplotlib.pyplot as plt\n",
    "\n",
    "%matplotlib inline"
   ]
  },
  {
   "cell_type": "code",
   "execution_count": 25,
   "metadata": {},
   "outputs": [],
   "source": [
    "plt.rcParams['figure.figsize'] = [10, 4]\n",
    "plt.rcParams['figure.dpi'] = 100"
   ]
  },
  {
   "cell_type": "code",
   "execution_count": 26,
   "metadata": {},
   "outputs": [
    {
     "data": {
      "text/html": [
       "<div>\n",
       "<style scoped>\n",
       "    .dataframe tbody tr th:only-of-type {\n",
       "        vertical-align: middle;\n",
       "    }\n",
       "\n",
       "    .dataframe tbody tr th {\n",
       "        vertical-align: top;\n",
       "    }\n",
       "\n",
       "    .dataframe thead th {\n",
       "        text-align: right;\n",
       "    }\n",
       "</style>\n",
       "<table border=\"1\" class=\"dataframe\">\n",
       "  <thead>\n",
       "    <tr style=\"text-align: right;\">\n",
       "      <th></th>\n",
       "      <th>execution_time</th>\n",
       "      <th>steps</th>\n",
       "      <th>difficulty</th>\n",
       "    </tr>\n",
       "  </thead>\n",
       "  <tbody>\n",
       "    <tr>\n",
       "      <td>count</td>\n",
       "      <td>1000.000000</td>\n",
       "      <td>1.000000e+03</td>\n",
       "      <td>1000.000000</td>\n",
       "    </tr>\n",
       "    <tr>\n",
       "      <td>mean</td>\n",
       "      <td>0.206793</td>\n",
       "      <td>1.418552e+03</td>\n",
       "      <td>3.000000</td>\n",
       "    </tr>\n",
       "    <tr>\n",
       "      <td>std</td>\n",
       "      <td>5.980076</td>\n",
       "      <td>4.140376e+04</td>\n",
       "      <td>1.414921</td>\n",
       "    </tr>\n",
       "    <tr>\n",
       "      <td>min</td>\n",
       "      <td>0.000000</td>\n",
       "      <td>8.000000e+00</td>\n",
       "      <td>1.000000</td>\n",
       "    </tr>\n",
       "    <tr>\n",
       "      <td>25%</td>\n",
       "      <td>0.002000</td>\n",
       "      <td>1.600000e+01</td>\n",
       "      <td>2.000000</td>\n",
       "    </tr>\n",
       "    <tr>\n",
       "      <td>50%</td>\n",
       "      <td>0.005001</td>\n",
       "      <td>4.200000e+01</td>\n",
       "      <td>3.000000</td>\n",
       "    </tr>\n",
       "    <tr>\n",
       "      <td>75%</td>\n",
       "      <td>0.016004</td>\n",
       "      <td>6.300000e+01</td>\n",
       "      <td>4.000000</td>\n",
       "    </tr>\n",
       "    <tr>\n",
       "      <td>max</td>\n",
       "      <td>188.998628</td>\n",
       "      <td>1.308809e+06</td>\n",
       "      <td>5.000000</td>\n",
       "    </tr>\n",
       "  </tbody>\n",
       "</table>\n",
       "</div>"
      ],
      "text/plain": [
       "       execution_time         steps   difficulty\n",
       "count     1000.000000  1.000000e+03  1000.000000\n",
       "mean         0.206793  1.418552e+03     3.000000\n",
       "std          5.980076  4.140376e+04     1.414921\n",
       "min          0.000000  8.000000e+00     1.000000\n",
       "25%          0.002000  1.600000e+01     2.000000\n",
       "50%          0.005001  4.200000e+01     3.000000\n",
       "75%          0.016004  6.300000e+01     4.000000\n",
       "max        188.998628  1.308809e+06     5.000000"
      ]
     },
     "execution_count": 26,
     "metadata": {},
     "output_type": "execute_result"
    }
   ],
   "source": [
    "dfs = []\n",
    "for i in range(1, 6):\n",
    "    bfs_file = f'tests/results/bfs_{i}.txt'\n",
    "    astar_file = f'tests/results/aStar_{i}.txt'\n",
    "    df_temp = pd.read_csv(bfs_file, delimiter=' ', header=None, names=['execution_time', 'steps'])\n",
    "    df_temp['algo'] = 'bfs'\n",
    "    df_temp['difficulty'] = i\n",
    "    dfs.append(df_temp)\n",
    "    \n",
    "    df_temp = pd.read_csv(astar_file, delimiter=' ', header=None, names=['execution_time', 'steps'])\n",
    "    df_temp['algo'] = 'a_star'\n",
    "    df_temp['difficulty'] = i\n",
    "    dfs.append(df_temp)\n",
    "df_execution = pd.concat(dfs)\n",
    "df_execution.reset_index(inplace=True, drop=True)\n",
    "df_execution.describe()"
   ]
  },
  {
   "cell_type": "code",
   "execution_count": 27,
   "metadata": {},
   "outputs": [
    {
     "data": {
      "text/html": [
       "<div>\n",
       "<style scoped>\n",
       "    .dataframe tbody tr th:only-of-type {\n",
       "        vertical-align: middle;\n",
       "    }\n",
       "\n",
       "    .dataframe tbody tr th {\n",
       "        vertical-align: top;\n",
       "    }\n",
       "\n",
       "    .dataframe thead th {\n",
       "        text-align: right;\n",
       "    }\n",
       "</style>\n",
       "<table border=\"1\" class=\"dataframe\">\n",
       "  <thead>\n",
       "    <tr style=\"text-align: right;\">\n",
       "      <th></th>\n",
       "      <th>execution_time</th>\n",
       "      <th>steps</th>\n",
       "      <th>algo</th>\n",
       "      <th>difficulty</th>\n",
       "    </tr>\n",
       "  </thead>\n",
       "  <tbody>\n",
       "    <tr>\n",
       "      <td>0</td>\n",
       "      <td>0.000000</td>\n",
       "      <td>8</td>\n",
       "      <td>bfs</td>\n",
       "      <td>1</td>\n",
       "    </tr>\n",
       "    <tr>\n",
       "      <td>1</td>\n",
       "      <td>0.001001</td>\n",
       "      <td>8</td>\n",
       "      <td>bfs</td>\n",
       "      <td>1</td>\n",
       "    </tr>\n",
       "    <tr>\n",
       "      <td>2</td>\n",
       "      <td>0.001001</td>\n",
       "      <td>8</td>\n",
       "      <td>bfs</td>\n",
       "      <td>1</td>\n",
       "    </tr>\n",
       "    <tr>\n",
       "      <td>3</td>\n",
       "      <td>0.001000</td>\n",
       "      <td>8</td>\n",
       "      <td>bfs</td>\n",
       "      <td>1</td>\n",
       "    </tr>\n",
       "    <tr>\n",
       "      <td>4</td>\n",
       "      <td>0.001000</td>\n",
       "      <td>8</td>\n",
       "      <td>bfs</td>\n",
       "      <td>1</td>\n",
       "    </tr>\n",
       "    <tr>\n",
       "      <td>...</td>\n",
       "      <td>...</td>\n",
       "      <td>...</td>\n",
       "      <td>...</td>\n",
       "      <td>...</td>\n",
       "    </tr>\n",
       "    <tr>\n",
       "      <td>995</td>\n",
       "      <td>0.029006</td>\n",
       "      <td>79</td>\n",
       "      <td>a_star</td>\n",
       "      <td>5</td>\n",
       "    </tr>\n",
       "    <tr>\n",
       "      <td>996</td>\n",
       "      <td>0.031983</td>\n",
       "      <td>74</td>\n",
       "      <td>a_star</td>\n",
       "      <td>5</td>\n",
       "    </tr>\n",
       "    <tr>\n",
       "      <td>997</td>\n",
       "      <td>0.028006</td>\n",
       "      <td>77</td>\n",
       "      <td>a_star</td>\n",
       "      <td>5</td>\n",
       "    </tr>\n",
       "    <tr>\n",
       "      <td>998</td>\n",
       "      <td>0.026980</td>\n",
       "      <td>79</td>\n",
       "      <td>a_star</td>\n",
       "      <td>5</td>\n",
       "    </tr>\n",
       "    <tr>\n",
       "      <td>999</td>\n",
       "      <td>0.033000</td>\n",
       "      <td>74</td>\n",
       "      <td>a_star</td>\n",
       "      <td>5</td>\n",
       "    </tr>\n",
       "  </tbody>\n",
       "</table>\n",
       "<p>1000 rows × 4 columns</p>\n",
       "</div>"
      ],
      "text/plain": [
       "     execution_time  steps    algo  difficulty\n",
       "0          0.000000      8     bfs           1\n",
       "1          0.001001      8     bfs           1\n",
       "2          0.001001      8     bfs           1\n",
       "3          0.001000      8     bfs           1\n",
       "4          0.001000      8     bfs           1\n",
       "..              ...    ...     ...         ...\n",
       "995        0.029006     79  a_star           5\n",
       "996        0.031983     74  a_star           5\n",
       "997        0.028006     77  a_star           5\n",
       "998        0.026980     79  a_star           5\n",
       "999        0.033000     74  a_star           5\n",
       "\n",
       "[1000 rows x 4 columns]"
      ]
     },
     "execution_count": 27,
     "metadata": {},
     "output_type": "execute_result"
    }
   ],
   "source": [
    "df_execution"
   ]
  },
  {
   "cell_type": "code",
   "execution_count": 28,
   "metadata": {},
   "outputs": [
    {
     "data": {
      "text/plain": [
       "<matplotlib.axes._subplots.AxesSubplot at 0x28c4478c0c8>"
      ]
     },
     "execution_count": 28,
     "metadata": {},
     "output_type": "execute_result"
    },
    {
     "data": {
      "image/png": "[encoded data removed]",
      "text/plain": [
       "<Figure size 1000x400 with 1 Axes>"
      ]
     },
     "metadata": {
      "needs_background": "light"
     },
     "output_type": "display_data"
    }
   ],
   "source": [
    "sns.scatterplot(df_execution.steps, df_execution.execution_time, hue=df_execution.algo)"
   ]
  },
  {
   "cell_type": "code",
   "execution_count": 30,
   "metadata": {},
   "outputs": [
    {
     "data": {
      "text/plain": [
       "<matplotlib.axes._subplots.AxesSubplot at 0x28c4479a348>"
      ]
     },
     "execution_count": 30,
     "metadata": {},
     "output_type": "execute_result"
    },
    {
     "data": {
      "image/png": "[encoded data removed]",
      "text/plain": [
       "<Figure size 1000x400 with 1 Axes>"
      ]
     },
     "metadata": {
      "needs_background": "light"
     },
     "output_type": "display_data"
    }
   ],
   "source": [
    "sns.scatterplot(df_execution.difficulty, df_execution.execution_time, hue=df_execution.algo)"
   ]
  },
  {
   "cell_type": "code",
   "execution_count": 34,
   "metadata": {},
   "outputs": [
    {
     "data": {
      "text/html": [
       "<div>\n",
       "<style scoped>\n",
       "    .dataframe tbody tr th:only-of-type {\n",
       "        vertical-align: middle;\n",
       "    }\n",
       "\n",
       "    .dataframe tbody tr th {\n",
       "        vertical-align: top;\n",
       "    }\n",
       "\n",
       "    .dataframe thead tr th {\n",
       "        text-align: left;\n",
       "    }\n",
       "\n",
       "    .dataframe thead tr:last-of-type th {\n",
       "        text-align: right;\n",
       "    }\n",
       "</style>\n",
       "<table border=\"1\" class=\"dataframe\">\n",
       "  <thead>\n",
       "    <tr>\n",
       "      <th></th>\n",
       "      <th></th>\n",
       "      <th colspan=\"5\" halign=\"left\">execution_time</th>\n",
       "      <th colspan=\"5\" halign=\"left\">steps</th>\n",
       "    </tr>\n",
       "    <tr>\n",
       "      <th></th>\n",
       "      <th></th>\n",
       "      <th>min</th>\n",
       "      <th>mean</th>\n",
       "      <th>median</th>\n",
       "      <th>max</th>\n",
       "      <th>var</th>\n",
       "      <th>min</th>\n",
       "      <th>mean</th>\n",
       "      <th>median</th>\n",
       "      <th>max</th>\n",
       "      <th>var</th>\n",
       "    </tr>\n",
       "    <tr>\n",
       "      <th>difficulty</th>\n",
       "      <th>algo</th>\n",
       "      <th></th>\n",
       "      <th></th>\n",
       "      <th></th>\n",
       "      <th></th>\n",
       "      <th></th>\n",
       "      <th></th>\n",
       "      <th></th>\n",
       "      <th></th>\n",
       "      <th></th>\n",
       "      <th></th>\n",
       "    </tr>\n",
       "  </thead>\n",
       "  <tbody>\n",
       "    <tr>\n",
       "      <td rowspan=\"2\" valign=\"top\">1</td>\n",
       "      <td>a_star</td>\n",
       "      <td>0.001000</td>\n",
       "      <td>0.001640</td>\n",
       "      <td>0.002000</td>\n",
       "      <td>0.002001</td>\n",
       "      <td>2.327526e-07</td>\n",
       "      <td>14</td>\n",
       "      <td>14.99</td>\n",
       "      <td>15.0</td>\n",
       "      <td>15</td>\n",
       "      <td>1.000000e-02</td>\n",
       "    </tr>\n",
       "    <tr>\n",
       "      <td>bfs</td>\n",
       "      <td>0.000000</td>\n",
       "      <td>0.000780</td>\n",
       "      <td>0.001000</td>\n",
       "      <td>0.001001</td>\n",
       "      <td>1.734365e-07</td>\n",
       "      <td>8</td>\n",
       "      <td>8.13</td>\n",
       "      <td>8.0</td>\n",
       "      <td>12</td>\n",
       "      <td>2.354545e-01</td>\n",
       "    </tr>\n",
       "    <tr>\n",
       "      <td rowspan=\"2\" valign=\"top\">2</td>\n",
       "      <td>a_star</td>\n",
       "      <td>0.004000</td>\n",
       "      <td>0.004598</td>\n",
       "      <td>0.005001</td>\n",
       "      <td>0.005004</td>\n",
       "      <td>2.411428e-07</td>\n",
       "      <td>31</td>\n",
       "      <td>31.00</td>\n",
       "      <td>31.0</td>\n",
       "      <td>31</td>\n",
       "      <td>0.000000e+00</td>\n",
       "    </tr>\n",
       "    <tr>\n",
       "      <td>bfs</td>\n",
       "      <td>0.000999</td>\n",
       "      <td>0.001660</td>\n",
       "      <td>0.002000</td>\n",
       "      <td>0.003000</td>\n",
       "      <td>2.469603e-07</td>\n",
       "      <td>16</td>\n",
       "      <td>16.71</td>\n",
       "      <td>16.0</td>\n",
       "      <td>29</td>\n",
       "      <td>2.591818e+00</td>\n",
       "    </tr>\n",
       "    <tr>\n",
       "      <td rowspan=\"2\" valign=\"top\">3</td>\n",
       "      <td>a_star</td>\n",
       "      <td>0.008002</td>\n",
       "      <td>0.009622</td>\n",
       "      <td>0.010002</td>\n",
       "      <td>0.011003</td>\n",
       "      <td>3.593922e-07</td>\n",
       "      <td>45</td>\n",
       "      <td>46.89</td>\n",
       "      <td>47.0</td>\n",
       "      <td>47</td>\n",
       "      <td>1.392929e-01</td>\n",
       "    </tr>\n",
       "    <tr>\n",
       "      <td>bfs</td>\n",
       "      <td>0.002000</td>\n",
       "      <td>0.003091</td>\n",
       "      <td>0.003000</td>\n",
       "      <td>0.008001</td>\n",
       "      <td>1.052819e-06</td>\n",
       "      <td>24</td>\n",
       "      <td>31.59</td>\n",
       "      <td>28.0</td>\n",
       "      <td>86</td>\n",
       "      <td>9.757768e+01</td>\n",
       "    </tr>\n",
       "    <tr>\n",
       "      <td rowspan=\"2\" valign=\"top\">4</td>\n",
       "      <td>a_star</td>\n",
       "      <td>0.016003</td>\n",
       "      <td>0.017274</td>\n",
       "      <td>0.017004</td>\n",
       "      <td>0.020005</td>\n",
       "      <td>8.660816e-07</td>\n",
       "      <td>59</td>\n",
       "      <td>62.70</td>\n",
       "      <td>63.0</td>\n",
       "      <td>63</td>\n",
       "      <td>5.151515e-01</td>\n",
       "    </tr>\n",
       "    <tr>\n",
       "      <td>bfs</td>\n",
       "      <td>0.003000</td>\n",
       "      <td>0.006471</td>\n",
       "      <td>0.006001</td>\n",
       "      <td>0.025006</td>\n",
       "      <td>9.428452e-06</td>\n",
       "      <td>33</td>\n",
       "      <td>66.08</td>\n",
       "      <td>59.0</td>\n",
       "      <td>264</td>\n",
       "      <td>1.017872e+03</td>\n",
       "    </tr>\n",
       "    <tr>\n",
       "      <td rowspan=\"2\" valign=\"top\">5</td>\n",
       "      <td>a_star</td>\n",
       "      <td>0.026005</td>\n",
       "      <td>1.994118</td>\n",
       "      <td>0.028007</td>\n",
       "      <td>188.998628</td>\n",
       "      <td>3.572774e+02</td>\n",
       "      <td>69</td>\n",
       "      <td>13606.28</td>\n",
       "      <td>78.0</td>\n",
       "      <td>1308809</td>\n",
       "      <td>1.713171e+10</td>\n",
       "    </tr>\n",
       "    <tr>\n",
       "      <td>bfs</td>\n",
       "      <td>0.005999</td>\n",
       "      <td>0.028675</td>\n",
       "      <td>0.021005</td>\n",
       "      <td>0.150034</td>\n",
       "      <td>6.284120e-04</td>\n",
       "      <td>59</td>\n",
       "      <td>301.15</td>\n",
       "      <td>220.5</td>\n",
       "      <td>1598</td>\n",
       "      <td>7.012585e+04</td>\n",
       "    </tr>\n",
       "  </tbody>\n",
       "</table>\n",
       "</div>"
      ],
      "text/plain": [
       "                  execution_time                                  \\\n",
       "                             min      mean    median         max   \n",
       "difficulty algo                                                    \n",
       "1          a_star       0.001000  0.001640  0.002000    0.002001   \n",
       "           bfs          0.000000  0.000780  0.001000    0.001001   \n",
       "2          a_star       0.004000  0.004598  0.005001    0.005004   \n",
       "           bfs          0.000999  0.001660  0.002000    0.003000   \n",
       "3          a_star       0.008002  0.009622  0.010002    0.011003   \n",
       "           bfs          0.002000  0.003091  0.003000    0.008001   \n",
       "4          a_star       0.016003  0.017274  0.017004    0.020005   \n",
       "           bfs          0.003000  0.006471  0.006001    0.025006   \n",
       "5          a_star       0.026005  1.994118  0.028007  188.998628   \n",
       "           bfs          0.005999  0.028675  0.021005    0.150034   \n",
       "\n",
       "                                steps                                          \n",
       "                            var   min      mean median      max           var  \n",
       "difficulty algo                                                                \n",
       "1          a_star  2.327526e-07    14     14.99   15.0       15  1.000000e-02  \n",
       "           bfs     1.734365e-07     8      8.13    8.0       12  2.354545e-01  \n",
       "2          a_star  2.411428e-07    31     31.00   31.0       31  0.000000e+00  \n",
       "           bfs     2.469603e-07    16     16.71   16.0       29  2.591818e+00  \n",
       "3          a_star  3.593922e-07    45     46.89   47.0       47  1.392929e-01  \n",
       "           bfs     1.052819e-06    24     31.59   28.0       86  9.757768e+01  \n",
       "4          a_star  8.660816e-07    59     62.70   63.0       63  5.151515e-01  \n",
       "           bfs     9.428452e-06    33     66.08   59.0      264  1.017872e+03  \n",
       "5          a_star  3.572774e+02    69  13606.28   78.0  1308809  1.713171e+10  \n",
       "           bfs     6.284120e-04    59    301.15  220.5     1598  7.012585e+04  "
      ]
     },
     "execution_count": 34,
     "metadata": {},
     "output_type": "execute_result"
    }
   ],
   "source": [
    "df_execution[['algo', 'execution_time', 'steps', 'difficulty']].groupby(['difficulty', 'algo']).agg(['min', 'mean', 'median', 'max', 'var'])"
   ]
  },
  {
   "cell_type": "code",
   "execution_count": 35,
   "metadata": {},
   "outputs": [
    {
     "data": {
      "image/png": "[encoded data removed]",
      "text/plain": [
       "<Figure size 1000x400 with 2 Axes>"
      ]
     },
     "metadata": {
      "needs_background": "light"
     },
     "output_type": "display_data"
    }
   ],
   "source": [
    "serie = df_execution[((df_execution.algo == 'bfs') & (df_execution.difficulty == 3))].execution_time.values\n",
    "ax1 = plt.subplot(1,2,1)\n",
    "ax1.hist(serie)\n",
    "\n",
    "ax2 = plt.subplot(1,2,2)\n",
    "ax2.boxplot(serie)\n",
    "\n",
    "plt.show()"
   ]
  },
  {
   "cell_type": "code",
   "execution_count": 36,
   "metadata": {},
   "outputs": [
    {
     "data": {
      "image/png": "[encoded data removed]",
      "text/plain": [
       "<Figure size 1000x400 with 2 Axes>"
      ]
     },
     "metadata": {
      "needs_background": "light"
     },
     "output_type": "display_data"
    }
   ],
   "source": [
    "serie = df_execution[((df_execution.algo == 'bfs'))].execution_time.values\n",
    "ax1 = plt.subplot(1,2,1)\n",
    "ax1.hist(serie)\n",
    "\n",
    "ax2 = plt.subplot(1,2,2)\n",
    "ax2.boxplot(serie)\n",
    "\n",
    "plt.show()"
   ]
  },
  {
   "cell_type": "code",
   "execution_count": 37,
   "metadata": {},
   "outputs": [
    {
     "data": {
      "image/png": "[encoded data removed]",
      "text/plain": [
       "<Figure size 1000x400 with 2 Axes>"
      ]
     },
     "metadata": {
      "needs_background": "light"
     },
     "output_type": "display_data"
    }
   ],
   "source": [
    "serie = df_execution[((df_execution.algo == 'a_star') & (df_execution.difficulty == 2))].execution_time.values\n",
    "ax1 = plt.subplot(1,2,1)\n",
    "ax1.hist(serie)\n",
    "\n",
    "ax2 = plt.subplot(1,2,2)\n",
    "ax2.boxplot(serie)\n",
    "\n",
    "plt.show()"
   ]
  },
  {
   "cell_type": "code",
   "execution_count": null,
   "metadata": {},
   "outputs": [],
   "source": []
  }
 ],
 "metadata": {
  "kernelspec": {
   "display_name": "Python 3",
   "language": "python",
   "name": "python3"
  },
  "language_info": {
   "codemirror_mode": {
    "name": "ipython",
    "version": 3
   },
   "file_extension": ".py",
   "mimetype": "text/x-python",
   "name": "python",
   "nbconvert_exporter": "python",
   "pygments_lexer": "ipython3",
   "version": "3.7.4"
  }
 },
 "nbformat": 4,
 "nbformat_minor": 2
}
